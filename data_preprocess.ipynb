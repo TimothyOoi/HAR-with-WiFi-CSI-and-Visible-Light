{
 "cells": [
  {
   "attachments": {},
   "cell_type": "markdown",
   "metadata": {},
   "source": [
    "# Combine CSI and Light Data"
   ]
  },
  {
   "cell_type": "code",
   "execution_count": 1,
   "metadata": {},
   "outputs": [],
   "source": [
    "import pandas as pd\n",
    "import numpy as np\n",
    "import glob\n",
    "import datetime as dt\n",
    "import os"
   ]
  },
  {
   "cell_type": "code",
   "execution_count": 2,
   "metadata": {},
   "outputs": [],
   "source": [
    "def get_activity_filecount(dir, activity):\n",
    "    return len(glob.glob(f\"{dir}/{activity}*.csv\"))"
   ]
  },
  {
   "cell_type": "code",
   "execution_count": 3,
   "metadata": {},
   "outputs": [],
   "source": [
    "act_dirs = [('new_csi_data', 'new_light_data'), ('dataset/csi_data', 'dataset/light_data')]\n",
    "activities = ['empty', 'sit', 'stand', 'walk']"
   ]
  },
  {
   "cell_type": "code",
   "execution_count": 4,
   "metadata": {},
   "outputs": [
    {
     "name": "stdout",
     "output_type": "stream",
     "text": [
      "('new_csi_data', 'new_light_data') empty 1 1\n",
      "('new_csi_data', 'new_light_data') sit 15 15\n",
      "('new_csi_data', 'new_light_data') stand 15 15\n",
      "('new_csi_data', 'new_light_data') walk 15 15\n",
      "('dataset/csi_data', 'dataset/light_data') empty 4 4\n",
      "('dataset/csi_data', 'dataset/light_data') sit 9 9\n",
      "('dataset/csi_data', 'dataset/light_data') stand 9 9\n",
      "('dataset/csi_data', 'dataset/light_data') walk 9 9\n"
     ]
    }
   ],
   "source": [
    "for d_pair in act_dirs:\n",
    "    for activity in activities:\n",
    "        print(d_pair, activity, get_activity_filecount(d_pair[0], activity), get_activity_filecount(d_pair[1], activity))"
   ]
  },
  {
   "cell_type": "code",
   "execution_count": 5,
   "metadata": {},
   "outputs": [],
   "source": [
    "def combine_data(fname, csi_dir, lgt_dir):\n",
    "    # fname = \"stand_1.csv\"\n",
    "    csi_df = pd.read_csv(f\"{csi_dir}/{fname}\").dropna(axis=1) # read in csi data and remove columns with all nulls\n",
    "    lgt_df = pd.read_csv(f\"{lgt_dir}/{fname}\")\n",
    "\n",
    "    # parse to pandas datetime object and floor to closest 100 millisecond\n",
    "    csi_df['time'] = pd.to_datetime(csi_df['time'], unit='s', utc=True).dt.tz_convert('Asia/Kuala_Lumpur').dt.floor('100ms')\n",
    "    lgt_df['msg_received_datetime'] = pd.to_datetime(lgt_df['msg_received_datetime'], format='%Y-%m-%d %H:%M:%S.%f').dt.tz_localize('Asia/Kuala_Lumpur').dt.floor('100ms')\n",
    "    lgt_df['msg_published_datetime'] = pd.to_datetime(lgt_df['msg_published_datetime'], format='%Y-%m-%d %H:%M:%S.%f').dt.tz_localize('Asia/Kuala_Lumpur').dt.floor('100ms')\n",
    "\n",
    "    # match csi start time to light start time due to issue in Raspberry Pi\n",
    "    csi_min_time = csi_df['time'].min()\n",
    "    lgt_min_time = lgt_df['msg_published_datetime'].min()\n",
    "    csi_df['time'] = csi_df['time']  + (lgt_min_time - csi_min_time)\n",
    "\n",
    "    # convert complex numbers to absolute values\n",
    "    for idx in range(0, 64):\n",
    "        csi_col = f'_{idx}'\n",
    "        csi_df[csi_col] = csi_df[csi_col].apply(lambda x: np.abs(np.complex128(x)))\n",
    "\n",
    "    # convert light data from long to wide format\n",
    "    LIGHT_COLNAMES = ['sensor_' + str (i) for i in range(1,10)]\n",
    "    lgt_wide_df = lgt_df.pivot_table(index=\"msg_published_datetime\", columns=\"sensor_id\", values=\"sensor_val\", aggfunc=\"mean\").add_prefix(\"sensor_\").reset_index()\n",
    "    # fill null values with previous data, then subsequent data if needed\n",
    "    lgt_wide_df.loc[:, LIGHT_COLNAMES] =  lgt_wide_df.loc[:, LIGHT_COLNAMES].ffill().bfill()\n",
    "\n",
    "    # merge csi and light data on timestamp\n",
    "    merged_df = csi_df.merge(lgt_wide_df, how='inner', left_on='time', right_on='msg_published_datetime')\n",
    "    return merged_df"
   ]
  },
  {
   "cell_type": "code",
   "execution_count": 6,
   "metadata": {},
   "outputs": [],
   "source": [
    "def batch_rows(df, rows_per_group):\n",
    "    CSI_COLNAMES = [f'_{idx}' for idx in range(0, 64)]\n",
    "    LIGHT_COLNAMES = ['sensor_' + str (i) for i in range(1,10)]\n",
    "\n",
    "    res = []\n",
    "    total_groups = df.shape[0]//rows_per_group\n",
    "    count = 0\n",
    "    while count < total_groups:\n",
    "        temp = df.iloc[count*rows_per_group:(count+1)*rows_per_group, :]\n",
    "        temp = temp[CSI_COLNAMES+LIGHT_COLNAMES].values\n",
    "        if not np.isnan(np.min(temp)):\n",
    "            res.append(temp)\n",
    "        count += 1\n",
    "    return res"
   ]
  },
  {
   "cell_type": "code",
   "execution_count": 7,
   "metadata": {},
   "outputs": [
    {
     "name": "stdout",
     "output_type": "stream",
     "text": [
      "dirs: ('new_csi_data', 'new_light_data'), file name: empty_1.csv, file shape: (2167, 76), total output files: 21\n",
      "dirs: ('new_csi_data', 'new_light_data'), file name: sit_1.csv, file shape: (328, 76), total output files: 3\n",
      "dirs: ('new_csi_data', 'new_light_data'), file name: sit_2.csv, file shape: (330, 76), total output files: 3\n",
      "dirs: ('new_csi_data', 'new_light_data'), file name: sit_3.csv, file shape: (324, 76), total output files: 3\n",
      "dirs: ('new_csi_data', 'new_light_data'), file name: sit_4.csv, file shape: (342, 76), total output files: 3\n",
      "dirs: ('new_csi_data', 'new_light_data'), file name: sit_5.csv, file shape: (326, 76), total output files: 3\n",
      "dirs: ('new_csi_data', 'new_light_data'), file name: sit_6.csv, file shape: (318, 76), total output files: 3\n",
      "dirs: ('new_csi_data', 'new_light_data'), file name: sit_7.csv, file shape: (320, 76), total output files: 3\n",
      "dirs: ('new_csi_data', 'new_light_data'), file name: sit_8.csv, file shape: (324, 76), total output files: 3\n",
      "dirs: ('new_csi_data', 'new_light_data'), file name: sit_9.csv, file shape: (324, 76), total output files: 3\n",
      "dirs: ('new_csi_data', 'new_light_data'), file name: sit_10.csv, file shape: (328, 76), total output files: 3\n",
      "dirs: ('new_csi_data', 'new_light_data'), file name: sit_11.csv, file shape: (322, 76), total output files: 3\n",
      "dirs: ('new_csi_data', 'new_light_data'), file name: sit_12.csv, file shape: (323, 76), total output files: 3\n",
      "dirs: ('new_csi_data', 'new_light_data'), file name: sit_13.csv, file shape: (332, 76), total output files: 3\n",
      "dirs: ('new_csi_data', 'new_light_data'), file name: sit_14.csv, file shape: (324, 76), total output files: 3\n",
      "dirs: ('new_csi_data', 'new_light_data'), file name: sit_15.csv, file shape: (321, 76), total output files: 3\n",
      "dirs: ('new_csi_data', 'new_light_data'), file name: stand_1.csv, file shape: (326, 76), total output files: 3\n",
      "dirs: ('new_csi_data', 'new_light_data'), file name: stand_2.csv, file shape: (327, 76), total output files: 3\n",
      "dirs: ('new_csi_data', 'new_light_data'), file name: stand_3.csv, file shape: (326, 76), total output files: 3\n",
      "dirs: ('new_csi_data', 'new_light_data'), file name: stand_4.csv, file shape: (328, 76), total output files: 3\n",
      "dirs: ('new_csi_data', 'new_light_data'), file name: stand_5.csv, file shape: (322, 76), total output files: 3\n",
      "dirs: ('new_csi_data', 'new_light_data'), file name: stand_6.csv, file shape: (326, 76), total output files: 3\n",
      "dirs: ('new_csi_data', 'new_light_data'), file name: stand_7.csv, file shape: (323, 76), total output files: 3\n",
      "dirs: ('new_csi_data', 'new_light_data'), file name: stand_8.csv, file shape: (326, 76), total output files: 3\n",
      "dirs: ('new_csi_data', 'new_light_data'), file name: stand_9.csv, file shape: (321, 76), total output files: 3\n",
      "dirs: ('new_csi_data', 'new_light_data'), file name: stand_10.csv, file shape: (322, 76), total output files: 3\n",
      "dirs: ('new_csi_data', 'new_light_data'), file name: stand_11.csv, file shape: (334, 76), total output files: 3\n",
      "dirs: ('new_csi_data', 'new_light_data'), file name: stand_12.csv, file shape: (325, 76), total output files: 3\n",
      "dirs: ('new_csi_data', 'new_light_data'), file name: stand_13.csv, file shape: (326, 76), total output files: 3\n",
      "dirs: ('new_csi_data', 'new_light_data'), file name: stand_14.csv, file shape: (325, 76), total output files: 3\n",
      "dirs: ('new_csi_data', 'new_light_data'), file name: stand_15.csv, file shape: (327, 76), total output files: 3\n",
      "dirs: ('new_csi_data', 'new_light_data'), file name: walk_1.csv, file shape: (324, 76), total output files: 3\n",
      "dirs: ('new_csi_data', 'new_light_data'), file name: walk_2.csv, file shape: (321, 76), total output files: 3\n",
      "dirs: ('new_csi_data', 'new_light_data'), file name: walk_3.csv, file shape: (333, 76), total output files: 3\n",
      "dirs: ('new_csi_data', 'new_light_data'), file name: walk_4.csv, file shape: (323, 76), total output files: 3\n",
      "dirs: ('new_csi_data', 'new_light_data'), file name: walk_5.csv, file shape: (322, 76), total output files: 3\n",
      "dirs: ('new_csi_data', 'new_light_data'), file name: walk_6.csv, file shape: (320, 76), total output files: 3\n",
      "dirs: ('new_csi_data', 'new_light_data'), file name: walk_7.csv, file shape: (322, 76), total output files: 3\n",
      "dirs: ('new_csi_data', 'new_light_data'), file name: walk_8.csv, file shape: (327, 76), total output files: 3\n",
      "dirs: ('new_csi_data', 'new_light_data'), file name: walk_9.csv, file shape: (324, 76), total output files: 3\n",
      "dirs: ('new_csi_data', 'new_light_data'), file name: walk_10.csv, file shape: (328, 76), total output files: 3\n",
      "dirs: ('new_csi_data', 'new_light_data'), file name: walk_11.csv, file shape: (325, 76), total output files: 3\n",
      "dirs: ('new_csi_data', 'new_light_data'), file name: walk_12.csv, file shape: (267, 76), total output files: 2\n",
      "dirs: ('new_csi_data', 'new_light_data'), file name: walk_13.csv, file shape: (321, 76), total output files: 3\n",
      "dirs: ('new_csi_data', 'new_light_data'), file name: walk_14.csv, file shape: (327, 76), total output files: 3\n",
      "dirs: ('new_csi_data', 'new_light_data'), file name: walk_15.csv, file shape: (327, 76), total output files: 3\n"
     ]
    }
   ],
   "source": [
    "# process second data\n",
    "d_pair = ('new_csi_data', 'new_light_data')\n",
    "for activity in activities:\n",
    "    counter = 0\n",
    "    total_files = get_activity_filecount(d_pair[0], activity)\n",
    "    for i in range(1, total_files+1):\n",
    "        fname = f'{activity}_{i}.csv'\n",
    "        try:\n",
    "            res = combine_data(fname, d_pair[0], d_pair[1])\n",
    "        except:\n",
    "            continue\n",
    "        batched_res = batch_rows(res, 100)\n",
    "        for batch in batched_res:\n",
    "            np.savetxt(f\"230510_combined_data/{activity}_{counter}.csv\", batch, delimiter=\",\")\n",
    "            counter += 1\n",
    "        print(f\"dirs: {d_pair}, file name: {fname}, file shape: {res.shape}, total output files: {len(batched_res)}\")"
   ]
  },
  {
   "cell_type": "code",
   "execution_count": 8,
   "metadata": {},
   "outputs": [],
   "source": [
    "def combine_data(fname, csi_dir, lgt_dir):\n",
    "    # fname = \"stand_1.csv\"\n",
    "    csi_df = pd.read_csv(f\"{csi_dir}/{fname}\").dropna(axis=1) # read in csi data and remove columns with all nulls\n",
    "    lgt_df = pd.read_csv(f\"{lgt_dir}/{fname}\", header=None, names=['msg_received_datetime', 'msg_published_datetime', 'sensor_id', 'sensor_val'])\n",
    "\n",
    "    # parse to pandas datetime object and floor to closest 100 millisecond\n",
    "    csi_df['time'] = pd.to_datetime(csi_df['time'], unit='s', utc=True).dt.tz_convert('Asia/Kuala_Lumpur').dt.floor('100ms')\n",
    "    lgt_df['msg_received_datetime'] = pd.to_datetime(lgt_df['msg_received_datetime'], format='%Y-%m-%d %H:%M:%S.%f').dt.tz_localize('Asia/Kuala_Lumpur').dt.floor('100ms')\n",
    "    lgt_df['msg_published_datetime'] = pd.to_datetime(lgt_df['msg_published_datetime'], format='%Y-%m-%d %H:%M:%S.%f').dt.tz_localize('Asia/Kuala_Lumpur').dt.floor('100ms')\n",
    "\n",
    "    # match csi start time to light start time due to issue in Raspberry Pi\n",
    "    csi_min_time = csi_df['time'].min()\n",
    "    lgt_min_time = lgt_df['msg_published_datetime'].min()\n",
    "    csi_df['time'] = csi_df['time']  + (lgt_min_time - csi_min_time)\n",
    "\n",
    "    # convert complex numbers to absolute values\n",
    "    for idx in range(0, 64):\n",
    "        csi_col = f'_{idx}'\n",
    "        csi_df[csi_col] = csi_df[csi_col].apply(lambda x: np.abs(np.complex128(x)))\n",
    "\n",
    "    # convert light data from long to wide format\n",
    "    LIGHT_COLNAMES = ['sensor_' + str (i) for i in range(1,10)]\n",
    "    lgt_wide_df = lgt_df.pivot_table(index=\"msg_published_datetime\", columns=\"sensor_id\", values=\"sensor_val\", aggfunc=\"mean\").add_prefix(\"sensor_\").reset_index()\n",
    "    # fill null values with previous data, then subsequent data if needed\n",
    "    try:\n",
    "        lgt_wide_df.loc[:, LIGHT_COLNAMES] =  lgt_wide_df.loc[:, LIGHT_COLNAMES].ffill().bfill()\n",
    "    except KeyError as e:\n",
    "        raise Exception(f\"Light sensor error: {e}\") #f\"Empty sensor file {lgt_dir}/{fname} due to error\")\n",
    "    # merge csi and light data on timestamp\n",
    "    merged_df = csi_df.merge(lgt_wide_df, how='inner', left_on='time', right_on='msg_published_datetime')\n",
    "    return merged_df"
   ]
  },
  {
   "cell_type": "code",
   "execution_count": 9,
   "metadata": {},
   "outputs": [
    {
     "name": "stdout",
     "output_type": "stream",
     "text": [
      "dirs: ('dataset/csi_data', 'dataset/light_data'), file name: empty_1.csv, file shape: (272, 76), total output files: 2\n",
      "dirs: ('dataset/csi_data', 'dataset/light_data'), file name: empty_2.csv, file shape: (272, 76), total output files: 2\n",
      "dirs: ('dataset/csi_data', 'dataset/light_data'), file name: empty_3.csv, file shape: (269, 76), total output files: 2\n",
      "dirs: ('dataset/csi_data', 'dataset/light_data'), file name: empty_4.csv, file shape: (273, 76), total output files: 2\n",
      "dirs: ('dataset/csi_data', 'dataset/light_data'), file name: sit_1.csv, file shape: (267, 76), total output files: 2\n",
      "dirs: ('dataset/csi_data', 'dataset/light_data'), file name: sit_2.csv, file shape: (270, 76), total output files: 2\n",
      "dirs: ('dataset/csi_data', 'dataset/light_data'), file name: sit_3.csv, file shape: (271, 76), total output files: 2\n",
      "dirs: ('dataset/csi_data', 'dataset/light_data'), file name: sit_4.csv, file shape: (268, 76), total output files: 2\n",
      "dirs: ('dataset/csi_data', 'dataset/light_data'), file name: sit_5.csv, file shape: (273, 76), total output files: 2\n",
      "dirs: ('dataset/csi_data', 'dataset/light_data'), file name: sit_6.csv, file shape: (271, 76), total output files: 2\n",
      "dirs: ('dataset/csi_data', 'dataset/light_data'), file name: sit_7.csv, file shape: (268, 76), total output files: 2\n",
      "dirs: ('dataset/csi_data', 'dataset/light_data'), file name: sit_8.csv, file shape: (270, 76), total output files: 2\n",
      "dirs: ('dataset/csi_data', 'dataset/light_data'), file name: sit_9.csv, file shape: (271, 76), total output files: 2\n",
      "dirs: ('dataset/csi_data', 'dataset/light_data'), file name: stand_1.csv, file shape: (274, 76), total output files: 2\n",
      "dirs: ('dataset/csi_data', 'dataset/light_data'), file name: stand_2.csv, file shape: (272, 76), total output files: 2\n",
      "dirs: ('dataset/csi_data', 'dataset/light_data'), file name: stand_3.csv, file shape: (268, 76), total output files: 2\n",
      "Light sensor error: \"['sensor_5'] not in index\"\n",
      "dirs: ('dataset/csi_data', 'dataset/light_data'), file name: stand_5.csv, file shape: (269, 76), total output files: 2\n",
      "Light sensor error: \"['sensor_6'] not in index\"\n",
      "dirs: ('dataset/csi_data', 'dataset/light_data'), file name: stand_7.csv, file shape: (271, 76), total output files: 2\n",
      "dirs: ('dataset/csi_data', 'dataset/light_data'), file name: stand_8.csv, file shape: (271, 76), total output files: 2\n",
      "dirs: ('dataset/csi_data', 'dataset/light_data'), file name: stand_9.csv, file shape: (272, 76), total output files: 2\n",
      "dirs: ('dataset/csi_data', 'dataset/light_data'), file name: walk_1.csv, file shape: (266, 76), total output files: 2\n",
      "dirs: ('dataset/csi_data', 'dataset/light_data'), file name: walk_2.csv, file shape: (267, 76), total output files: 2\n",
      "dirs: ('dataset/csi_data', 'dataset/light_data'), file name: walk_3.csv, file shape: (268, 76), total output files: 2\n",
      "dirs: ('dataset/csi_data', 'dataset/light_data'), file name: walk_4.csv, file shape: (273, 76), total output files: 2\n",
      "dirs: ('dataset/csi_data', 'dataset/light_data'), file name: walk_5.csv, file shape: (269, 76), total output files: 2\n",
      "dirs: ('dataset/csi_data', 'dataset/light_data'), file name: walk_6.csv, file shape: (274, 76), total output files: 2\n",
      "dirs: ('dataset/csi_data', 'dataset/light_data'), file name: walk_7.csv, file shape: (272, 76), total output files: 2\n",
      "dirs: ('dataset/csi_data', 'dataset/light_data'), file name: walk_8.csv, file shape: (271, 76), total output files: 2\n",
      "dirs: ('dataset/csi_data', 'dataset/light_data'), file name: walk_9.csv, file shape: (271, 76), total output files: 2\n"
     ]
    }
   ],
   "source": [
    "# process first data\n",
    "d_pair = ('dataset/csi_data', 'dataset/light_data')\n",
    "for activity in activities:\n",
    "    counter = get_activity_filecount('230510_combined_data', activity)\n",
    "    total_files = get_activity_filecount(d_pair[0], activity)\n",
    "    for i in range(1, total_files+1):\n",
    "        fname = f'{activity}_{i}.csv'\n",
    "        try:\n",
    "            res = combine_data(fname, d_pair[0], d_pair[1])\n",
    "        except Exception as e:\n",
    "            print(e)\n",
    "            continue\n",
    "        batched_res = batch_rows(res, 100)\n",
    "        for batch in batched_res:\n",
    "            np.savetxt(f\"230510_combined_data/{activity}_{counter}.csv\", batch, delimiter=\",\")\n",
    "            counter += 1\n",
    "        print(f\"dirs: {d_pair}, file name: {fname}, file shape: {res.shape}, total output files: {len(batched_res)}\")"
   ]
  }
 ],
 "metadata": {
  "kernelspec": {
   "display_name": "tf2_cpu",
   "language": "python",
   "name": "python3"
  },
  "language_info": {
   "codemirror_mode": {
    "name": "ipython",
    "version": 3
   },
   "file_extension": ".py",
   "mimetype": "text/x-python",
   "name": "python",
   "nbconvert_exporter": "python",
   "pygments_lexer": "ipython3",
   "version": "3.9.12"
  },
  "orig_nbformat": 4
 },
 "nbformat": 4,
 "nbformat_minor": 2
}
